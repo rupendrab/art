{
 "cells": [
  {
   "cell_type": "code",
   "execution_count": 1,
   "id": "8185c6be",
   "metadata": {},
   "outputs": [],
   "source": [
    "from art import *"
   ]
  },
  {
   "cell_type": "code",
   "execution_count": 5,
   "id": "e0428484",
   "metadata": {},
   "outputs": [
    {
     "name": "stdout",
     "output_type": "stream",
     "text": [
      "c[_] c[_] \n"
     ]
    }
   ],
   "source": [
    "art_1=art(\"coffee\", number=2) # return art as str in normal mode\n",
    "print(art_1)"
   ]
  },
  {
   "cell_type": "code",
   "execution_count": 6,
   "id": "fe54a396",
   "metadata": {},
   "outputs": [
    {
     "name": "stdout",
     "output_type": "stream",
     "text": [
      "▓⚗_⚗▓ ▓⚗_⚗▓ \n"
     ]
    }
   ],
   "source": [
    "art_2=art(\"woman\",number=2) # return multiple art as str\n",
    "print(art_2)"
   ]
  },
  {
   "cell_type": "code",
   "execution_count": 7,
   "id": "fa06353f",
   "metadata": {},
   "outputs": [
    {
     "name": "stdout",
     "output_type": "stream",
     "text": [
      "Ƹ̵̡Ӝ̵̨̄Ʒ \n"
     ]
    }
   ],
   "source": [
    "aprint(\"butterfly\") # print art"
   ]
  },
  {
   "cell_type": "code",
   "execution_count": 11,
   "id": "1ecb77eb",
   "metadata": {},
   "outputs": [
    {
     "name": "stdout",
     "output_type": "stream",
     "text": [
      "(‿|‿) \n"
     ]
    }
   ],
   "source": [
    "aprint(\"butter\")"
   ]
  },
  {
   "cell_type": "code",
   "execution_count": 14,
   "id": "d1bd7b5a",
   "metadata": {},
   "outputs": [
    {
     "name": "stdout",
     "output_type": "stream",
     "text": [
      ")xxx[::::::::::> \n"
     ]
    }
   ],
   "source": [
    "print(randart())"
   ]
  },
  {
   "cell_type": "code",
   "execution_count": 135,
   "id": "9310d583",
   "metadata": {},
   "outputs": [
    {
     "name": "stdout",
     "output_type": "stream",
     "text": [
      "____ _ ____ \n",
      "[__  | |__/ \n",
      "___] | |  \\ \n",
      "            \n",
      "_  _ ____ _  _ ____ _  _ \n",
      "|\\/| |__| |__| |__| |\\ | \n",
      "|  | |  | |  | |  | | \\| \n",
      "                         \n",
      "\n"
     ]
    }
   ],
   "source": [
    "print(text2art(\"\"\"sir\n",
    "mahan\"\"\", font=\"cybermedium\"))"
   ]
  },
  {
   "cell_type": "code",
   "execution_count": 23,
   "id": "d01c4bb0",
   "metadata": {},
   "outputs": [
    {
     "name": "stdout",
     "output_type": "stream",
     "text": [
      "ⓒⓗⓞⓚⓗ ⓖⓞⓛ ⓖⓞⓛ ⓚⓞⓡⓔ ⓟⓞⓡ\n"
     ]
    }
   ],
   "source": [
    "tprint(\"chokh gol gol kore por\",\"white_bubble\")"
   ]
  },
  {
   "cell_type": "code",
   "execution_count": 131,
   "id": "178e5c1a",
   "metadata": {},
   "outputs": [
    {
     "name": "stdout",
     "output_type": "stream",
     "text": [
      "        _                  _              _      \n",
      "       / /\\               /\\ \\           /\\ \\    \n",
      "      / /  \\              \\ \\ \\         /  \\ \\   \n",
      "     / / /\\ \\__           /\\ \\_\\       / /\\ \\ \\  \n",
      "    / / /\\ \\___\\         / /\\/_/      / / /\\ \\_\\ \n",
      "    \\ \\ \\ \\/___/        / / /        / / /_/ / / \n",
      "     \\ \\ \\             / / /        / / /__\\/ /  \n",
      " _    \\ \\ \\           / / /        / / /_____/   \n",
      "/_/\\__/ / /       ___/ / /__      / / /\\ \\ \\     \n",
      "\\ \\/___/ /       /\\__\\/_/___\\    / / /  \\ \\ \\    \n",
      " \\_____\\/        \\/_________/    \\/_/    \\_\\/    \n",
      "                                                 \n",
      "        _   _                _                   _       _           _                   _          \n",
      "       /\\_\\/\\_\\ _           / /\\                / /\\    / /\\        / /\\                /\\ \\     _  \n",
      "      / / / / //\\_\\        / /  \\              / / /   / / /       / /  \\              /  \\ \\   /\\_\\\n",
      "     /\\ \\/ \\ \\/ / /       / / /\\ \\            / /_/   / / /       / / /\\ \\            / /\\ \\ \\_/ / /\n",
      "    /  \\____\\__/ /       / / /\\ \\ \\          / /\\ \\__/ / /       / / /\\ \\ \\          / / /\\ \\___/ / \n",
      "   / /\\/________/       / / /  \\ \\ \\        / /\\ \\___\\/ /       / / /  \\ \\ \\        / / /  \\/____/  \n",
      "  / / /\\/_// / /       / / /___/ /\\ \\      / / /\\/___/ /       / / /___/ /\\ \\      / / /    / / /   \n",
      " / / /    / / /       / / /_____/ /\\ \\    / / /   / / /       / / /_____/ /\\ \\    / / /    / / /    \n",
      "/ / /    / / /       / /_________/\\ \\ \\  / / /   / / /       / /_________/\\ \\ \\  / / /    / / /     \n",
      "\\/_/    / / /       / / /_       __\\ \\_\\/ / /   / / /       / / /_       __\\ \\_\\/ / /    / / /      \n",
      "        \\/_/        \\_\\___\\     /____/_/\\/_/    \\/_/        \\_\\___\\     /____/_/\\/_/     \\/_/       \n",
      "                                                                                                    \n",
      "\n"
     ]
    }
   ],
   "source": [
    "tprint(\"sir\\nmahan\",\"rand-xlarge\")"
   ]
  },
  {
   "cell_type": "code",
   "execution_count": 211,
   "id": "9b973586",
   "metadata": {},
   "outputs": [
    {
     "name": "stdout",
     "output_type": "stream",
     "text": [
      " |   |                             \n",
      " |   |   _` |  __ \\   __ \\   |   | \n",
      " ___ |  (   |  |   |  |   |  |   | \n",
      "_|  _| \\__,_|  .__/   .__/  \\__, | \n",
      "              _|     _|     ____/  \n",
      "    \\                  _)                                               \n",
      "   _ \\    __ \\   __ \\   | \\ \\   /   _ \\   __|   __|   _` |   __|  |   | \n",
      "  ___ \\   |   |  |   |  |  \\ \\ /    __/  |    \\__ \\  (   |  |     |   | \n",
      "_/    _\\ _|  _| _|  _| _|   \\_/   \\___| _|    ____/ \\__,_| _|    \\__, | \n",
      "                                                                 ____/  \n",
      "\n"
     ]
    }
   ],
   "source": [
    "tprint(\"Happy\\nAnniversary\", font=\"rnd-medium\")"
   ]
  },
  {
   "cell_type": "code",
   "execution_count": 168,
   "id": "f883defc",
   "metadata": {},
   "outputs": [
    {
     "name": "stdout",
     "output_type": "stream",
     "text": [
      "Help on function tprint in module art.art:\n",
      "\n",
      "tprint(text, font='standard', chr_ignore=True, decoration=None, sep='\\n')\n",
      "    Print art text (support \\n).\n",
      "    \n",
      "    :param text: input text\n",
      "    :type text:str\n",
      "    :param font: input font\n",
      "    :type font:str\n",
      "    :param chr_ignore: ignore not supported character\n",
      "    :type chr_ignore:bool\n",
      "    :param decoration: text decoration\n",
      "    :type decoration:str\n",
      "    :param sep: line separator char\n",
      "    :type sep: str\n",
      "    :return: None\n",
      "\n"
     ]
    }
   ],
   "source": [
    "help(tprint)"
   ]
  },
  {
   "cell_type": "code",
   "execution_count": 169,
   "id": "051110e7",
   "metadata": {},
   "outputs": [
    {
     "name": "stdout",
     "output_type": "stream",
     "text": [
      "🌹\n"
     ]
    }
   ],
   "source": [
    "print(\"\\U0001F339\")"
   ]
  },
  {
   "cell_type": "code",
   "execution_count": 142,
   "id": "a7a2039e",
   "metadata": {},
   "outputs": [
    {
     "name": "stdout",
     "output_type": "stream",
     "text": [
      "🤣\n"
     ]
    }
   ],
   "source": [
    "print(\"\\U0001F923\")"
   ]
  },
  {
   "cell_type": "code",
   "execution_count": 165,
   "id": "3605c2c9",
   "metadata": {},
   "outputs": [
    {
     "name": "stdout",
     "output_type": "stream",
     "text": [
      "\n",
      " _   _                             \n",
      "🌹🌹 🌹                              \n",
      " 🌹 🌹  🌹🌹   🌹🌹🌹  🌹🌹🌹  🌹🌹 🌹🌹 \n",
      " 🌹🌹🌹 🌹 🌹   🌹 🌹  🌹 🌹  🌹 🌹  \n",
      " 🌹 🌹  🌹🌹   🌹 🌹  🌹 🌹  🌹 🌹  \n",
      " 🌹 🌹 🌹 🌹   🌹 🌹  🌹 🌹   🌹 🌹   \n",
      " 🌹 🌹 🌹🌹🌹  🌹🌹   🌹🌹    🌹🌹   \n",
      "               🌹     🌹      🌹    \n",
      "              🌹🌹   🌹🌹   🌹🌹    \n",
      "                                                                              \n",
      "                                                                              \n",
      "                        🌹                                                    \n",
      " 🌹🌹                                                                         \n",
      "  🌹🌹   🌹 🌹  🌹 🌹   🌹🌹   🌹🌹 🌹  🌹🌹  🌹 🌹🌹  🌹🌹   🌹🌹   🌹 🌹🌹 🌹🌹 🌹🌹 \n",
      "  🌹 🌹    🌹 🌹  🌹 🌹   🌹    🌹 🌹 🌹 🌹  🌹🌹 🌹 🌹🌹    🌹 🌹   🌹🌹 🌹  🌹 🌹  \n",
      " 🌹🌹🌹   🌹 🌹  🌹 🌹   🌹     🌹🌹  🌹🌹🌹  🌹     🌹🌹   🌹🌹   🌹     🌹 🌹  \n",
      " 🌹 🌹   🌹 🌹  🌹 🌹   🌹     🌹🌹  🌹     🌹       🌹🌹 🌹 🌹   🌹      🌹 🌹   \n",
      "🌹🌹 🌹🌹  🌹 🌹  🌹 🌹 🌹🌹🌹    🌹    🌹🌹 🌹🌹   🌹🌹🌹  🌹🌹🌹 🌹🌹     🌹🌹   \n",
      "                                                                        🌹    \n",
      "                                                                      🌹🌹    \n",
      "\n"
     ]
    }
   ],
   "source": [
    "txt = \"\"\"\n",
    " _   _                             \n",
    "### ##                              \n",
    " ## ##  ###   #####  #####  ### ### \n",
    " ##### ## ##   ## ##  ## ##  ## ##  \n",
    " ## ##  ####   ## ##  ## ##  ## ##  \n",
    " ## ## ## ##   ## ##  ## ##   # #   \n",
    " ## ## ######  ####   ####    ###   \n",
    "               ##     ##      ##    \n",
    "              ####   ####   ####    \n",
    "                                                                              \n",
    "                                                                              \n",
    "                        ##                                                    \n",
    " ####                                                                         \n",
    "  ###   ## ##  ## ##   ###   ### ##  ###  ## ###  ####   ###   ## ### ### ### \n",
    "  # #    ## ##  ## ##   ##    ## ## ## ##  ### # ###    ## ##   ### #  ## ##  \n",
    " #####   ## ##  ## ##   ##     ###  #####  ##     ####   ####   ##     ## ##  \n",
    " ## ##   ## ##  ## ##   ##     ###  ##     ##       ### ## ##   ##      # #   \n",
    "### ###  ## ##  ## ## ######    #    #### ####   #####  ###### ####     ###   \n",
    "                                                                        ##    \n",
    "                                                                      ####    \n",
    "\"\"\"\n",
    "rose = \"\\U0001F339\"\n",
    "print(txt.replace(\"##\", rose + \"\").replace(\"#\", rose))"
   ]
  },
  {
   "cell_type": "code",
   "execution_count": 227,
   "id": "2541783a",
   "metadata": {},
   "outputs": [
    {
     "name": "stdout",
     "output_type": "stream",
     "text": [
      "                                    \n",
      "  ####    ######   ######   ##  ##  \n",
      " ##  ##   ##  ##     ##     ##  ##  \n",
      "     ##      ##      ##     ######  \n",
      "  ####      ##       ##     ##  ##  \n",
      " ##         ##       ##     ##  ##  \n",
      " ######     ##       ##     ##  ##  \n",
      "                                    \n",
      "\n"
     ]
    }
   ],
   "source": [
    "# print(\"__\")\n",
    "# print(rose * 10)\n",
    "tprint(\"27th\", font=\"rnd-medium\")"
   ]
  },
  {
   "cell_type": "code",
   "execution_count": 228,
   "id": "122bb9d4",
   "metadata": {},
   "outputs": [
    {
     "name": "stdout",
     "output_type": "stream",
     "text": [
      "\n",
      "                                    \n",
      "  🌹🌹    🌹🌹🌹   🌹🌹🌹   🌹  🌹  \n",
      " 🌹  🌹   🌹  🌹     🌹     🌹  🌹  \n",
      "     🌹      🌹      🌹     🌹🌹🌹  \n",
      "  🌹🌹      🌹       🌹     🌹  🌹  \n",
      " 🌹         🌹       🌹     🌹  🌹  \n",
      " 🌹🌹🌹     🌹       🌹     🌹  🌹  \n",
      "                                    \n",
      "\n"
     ]
    }
   ],
   "source": [
    "txt = \"\"\"\n",
    "                                    \n",
    "  ####    ######   ######   ##  ##  \n",
    " ##  ##   ##  ##     ##     ##  ##  \n",
    "     ##      ##      ##     ######  \n",
    "  ####      ##       ##     ##  ##  \n",
    " ##         ##       ##     ##  ##  \n",
    " ######     ##       ##     ##  ##  \n",
    "                                    \n",
    "\"\"\"\n",
    "\n",
    "print(txt.replace(\"##\", rose).replace(\"#\", rose))"
   ]
  },
  {
   "cell_type": "code",
   "execution_count": 229,
   "id": "8b54b1e0",
   "metadata": {},
   "outputs": [
    {
     "name": "stdout",
     "output_type": "stream",
     "text": [
      "\n",
      " |   |                             \n",
      " |   |   _` |  __ \\   __ \\   |   | \n",
      " ___ |  (   |  |   |  |   |  |   | \n",
      "_|  _| \\__,_|  .__/   .__/  \\__, | \n",
      "              _|     _|     ____/  \n",
      "\n",
      "  🌹🌹    🌹🌹🌹   🌹🌹🌹   🌹  🌹  \n",
      " 🌹  🌹   🌹  🌹     🌹     🌹  🌹  \n",
      "     🌹      🌹      🌹     🌹🌹🌹  \n",
      "  🌹🌹      🌹       🌹     🌹  🌹  \n",
      " 🌹         🌹       🌹     🌹  🌹  \n",
      " 🌹🌹🌹     🌹       🌹     🌹  🌹  \n",
      "\n",
      "\n",
      "    \\                  _)                                               \n",
      "   _ \\    __ \\   __ \\   | \\ \\   /   _ \\   __|   __|   _` |   __|  |   | \n",
      "  ___ \\   |   |  |   |  |  \\ \\ /    __/  |    \\__ \\  (   |  |     |   | \n",
      "_/    _\\ _|  _| _|  _| _|   \\_/   \\___| _|    ____/ \\__,_| _|    \\__, | \n",
      "                                                                 ____/  \n",
      "\n"
     ]
    }
   ],
   "source": [
    "txt = \"\"\"\n",
    " |   |                             \n",
    " |   |   _` |  __ \\   __ \\   |   | \n",
    " ___ |  (   |  |   |  |   |  |   | \n",
    "_|  _| \\__,_|  .__/   .__/  \\__, | \n",
    "              _|     _|     ____/  \n",
    "\n",
    "  🌹🌹    🌹🌹🌹   🌹🌹🌹   🌹  🌹  \n",
    " 🌹  🌹   🌹  🌹     🌹     🌹  🌹  \n",
    "     🌹      🌹      🌹     🌹🌹🌹  \n",
    "  🌹🌹      🌹       🌹     🌹  🌹  \n",
    " 🌹         🌹       🌹     🌹  🌹  \n",
    " 🌹🌹🌹     🌹       🌹     🌹  🌹  \n",
    "\n",
    "\n",
    "    \\                  _)                                               \n",
    "   _ \\    __ \\   __ \\   | \\ \\   /   _ \\   __|   __|   _` |   __|  |   | \n",
    "  ___ \\   |   |  |   |  |  \\ \\ /    __/  |    \\__ \\  (   |  |     |   | \n",
    "_/    _\\ _|  _| _|  _| _|   \\_/   \\___| _|    ____/ \\__,_| _|    \\__, | \n",
    "                                                                 ____/  \n",
    "\"\"\"\n",
    "print(txt)"
   ]
  },
  {
   "cell_type": "code",
   "execution_count": 302,
   "id": "3016ef3d",
   "metadata": {},
   "outputs": [
    {
     "name": "stdout",
     "output_type": "stream",
     "text": [
      "  _    _    _    _    _  \n",
      " / \\  / \\  / \\  / \\  / \\ \n",
      "( M )( e )( r )( r )( y )\n",
      " \\_/  \\_/  \\_/  \\_/  \\_/ \n",
      "  _    _    _    _    _    _    _    _    _  \n",
      " / \\  / \\  / \\  / \\  / \\  / \\  / \\  / \\  / \\ \n",
      "( C )( h )( r )( i )( s )( t )( m )( a )( s )\n",
      " \\_/  \\_/  \\_/  \\_/  \\_/  \\_/  \\_/  \\_/  \\_/ \n",
      "\n"
     ]
    }
   ],
   "source": [
    "tprint(\"Merry\\nChristmas\", font=\"rnd-small\")"
   ]
  },
  {
   "cell_type": "code",
   "execution_count": 239,
   "id": "d4e97ba6",
   "metadata": {},
   "outputs": [
    {
     "name": "stdout",
     "output_type": "stream",
     "text": [
      "\n",
      " ____  ____  ____  ____  ____ \n",
      "||M ||||e ||||r ||||r ||||y ||\n",
      "||__||||__||||__||||__||||__||\n",
      "|/__\\||/__\\||/__\\||/__\\||/__\\|\n",
      " ____  ____  ____  ____  ____  ____  ____  ____  ____ \n",
      "||C ||||h ||||r ||||i ||||s ||||t ||||m ||||a ||||s ||\n",
      "||__||||__||||__||||__||||__||||__||||__||||__||||__||\n",
      "|/__\\||/__\\||/__\\||/__\\||/__\\||/__\\||/__\\||/__\\||/__\\|\n",
      "\n"
     ]
    }
   ],
   "source": [
    "print(\"\"\"\n",
    " ____  ____  ____  ____  ____ \n",
    "||M ||||e ||||r ||||r ||||y ||\n",
    "||__||||__||||__||||__||||__||\n",
    "|/__\\||/__\\||/__\\||/__\\||/__\\|\n",
    " ____  ____  ____  ____  ____  ____  ____  ____  ____ \n",
    "||C ||||h ||||r ||||i ||||s ||||t ||||m ||||a ||||s ||\n",
    "||__||||__||||__||||__||||__||||__||||__||||__||||__||\n",
    "|/__\\||/__\\||/__\\||/__\\||/__\\||/__\\||/__\\||/__\\||/__\\|\n",
    "\"\"\")"
   ]
  },
  {
   "cell_type": "code",
   "execution_count": 303,
   "id": "37813a9c",
   "metadata": {},
   "outputs": [
    {
     "name": "stdout",
     "output_type": "stream",
     "text": [
      "\n",
      "  _    _    _    _    _  \n",
      " / \\  / \\  / \\  / \\  / \\ \n",
      "( M )( e )( r )( r )( y )\n",
      " \\_/  \\_/  \\_/  \\_/  \\_/ \n",
      "  _    _    _    _    _    _    _    _    _  \n",
      " / \\  / \\  / \\  / \\  / \\  / \\  / \\  / \\  / \\ \n",
      "( C )( h )( r )( i )( s )( t )( m )( a )( s )\n",
      " \\_/  \\_/  \\_/  \\_/  \\_/  \\_/  \\_/  \\_/  \\_/ \n",
      "\n"
     ]
    }
   ],
   "source": [
    "print(\"\"\"\n",
    "  _    _    _    _    _  \n",
    " / \\  / \\  / \\  / \\  / \\ \n",
    "( M )( e )( r )( r )( y )\n",
    " \\_/  \\_/  \\_/  \\_/  \\_/ \n",
    "  _    _    _    _    _    _    _    _    _  \n",
    " / \\  / \\  / \\  / \\  / \\  / \\  / \\  / \\  / \\ \n",
    "( C )( h )( r )( i )( s )( t )( m )( a )( s )\n",
    " \\_/  \\_/  \\_/  \\_/  \\_/  \\_/  \\_/  \\_/  \\_/ \n",
    "\"\"\")"
   ]
  },
  {
   "cell_type": "code",
   "execution_count": null,
   "id": "9251ac06",
   "metadata": {},
   "outputs": [],
   "source": []
  }
 ],
 "metadata": {
  "kernelspec": {
   "display_name": "Python 3 (ipykernel)",
   "language": "python",
   "name": "python3"
  },
  "language_info": {
   "codemirror_mode": {
    "name": "ipython",
    "version": 3
   },
   "file_extension": ".py",
   "mimetype": "text/x-python",
   "name": "python",
   "nbconvert_exporter": "python",
   "pygments_lexer": "ipython3",
   "version": "3.9.15"
  }
 },
 "nbformat": 4,
 "nbformat_minor": 5
}
