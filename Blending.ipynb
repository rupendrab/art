{
 "cells": [
  {
   "cell_type": "code",
   "execution_count": 1,
   "id": "8b57cab3",
   "metadata": {},
   "outputs": [],
   "source": [
    "from PIL import Image\n",
    "from IPython.display import display"
   ]
  },
  {
   "cell_type": "code",
   "execution_count": 64,
   "id": "ea612823",
   "metadata": {},
   "outputs": [],
   "source": []
  },
  {
   "cell_type": "code",
   "execution_count": 65,
   "id": "f8a35f8f",
   "metadata": {},
   "outputs": [
    {
     "data": {
      "text/plain": [
       "((1024, 1024), (1024, 1024))"
      ]
     },
     "execution_count": 65,
     "metadata": {},
     "output_type": "execute_result"
    }
   ],
   "source": [
    "background.size, foreground.size"
   ]
  },
  {
   "cell_type": "code",
   "execution_count": 71,
   "id": "13128084",
   "metadata": {},
   "outputs": [],
   "source": [
    "def blend_two_images(background_image: Image.Image, foreground_image: Image.Image):\n",
    "    new_image = Image.new(\"RGBA\", background_image.size, (0, 0, 0, 0))\n",
    "    blended_image = Image.alpha_composite(background_image, foreground_image)\n",
    "    new_image.paste(blended_image, (0, 0), blended_image)\n",
    "    return new_image"
   ]
  },
  {
   "cell_type": "code",
   "execution_count": 72,
   "id": "d2715a38",
   "metadata": {},
   "outputs": [],
   "source": [
    "background = Image.open(\"Snowflakes.png\").convert(\"RGBA\")\n",
    "foreground = Image.open(\"Barn_Snowy_Field.png\").resize((1024, 1024)).convert(\"RGBA\")\n",
    "new_image = blend_two_images(background, foreground)\n",
    "new_image.save(\"1.png\")"
   ]
  },
  {
   "cell_type": "code",
   "execution_count": 76,
   "id": "75095c42",
   "metadata": {},
   "outputs": [],
   "source": [
    "from typing import List\n",
    "from PIL import Image\n",
    "\n",
    "def open_image(image_path: str) -> Image.Image:\n",
    "    image: Image.Image = Image.open(image_path)\n",
    "    if image.size != (1024, 1024):\n",
    "        image = image.resize((1024, 1024))\n",
    "    if image.mode != \"RGBA\":\n",
    "        image = image.convert(\"RGBA\")\n",
    "    return image\n",
    "\n",
    "def create_gif(fg_image_path: str, bg_image_paths: List[str], gif_file: str):\n",
    "\n",
    "    # Open and load all images\n",
    "    fg_image: Image.Image = open_image(fg_image_path)\n",
    "    \n",
    "    bg_images: List[Image.Image] = []\n",
    "    for path in bg_image_paths:\n",
    "        bg_images.append(open_image(path))\n",
    "\n",
    "    # Define the duration (in milliseconds) for each frame\n",
    "    frame_duration = 200\n",
    "\n",
    "    # Create a list to store the frames\n",
    "    frames = []\n",
    "\n",
    "    # Iterate over each image\n",
    "    for bg_image in bg_images:\n",
    "        new_image = blend_two_images(bg_image, fg_image)\n",
    "        # Append the image as a frame\n",
    "        for i in range(5):\n",
    "            frames.append(new_image)\n",
    "\n",
    "    # Save the frames as an animated GIF\n",
    "    frames[0].save(gif_file, save_all=True, append_images=frames[1:], optimize=False, duration=frame_duration, loop=0)\n"
   ]
  },
  {
   "cell_type": "code",
   "execution_count": 77,
   "id": "584a9a81",
   "metadata": {},
   "outputs": [],
   "source": [
    "create_gif(\n",
    "    \"Barn_Snowy_Field.png\", \n",
    "    [\n",
    "        \"Snowflakes_0.png\",\n",
    "        \"Snowflakes_1.png\",\n",
    "        \"Snowflakes_2.png\",\n",
    "        \"Snowflakes_3.png\",\n",
    "        \"Snowflakes_4.png\",\n",
    "    ],\n",
    "    \"Snowflake_Animation_New.gif\"\n",
    ")"
   ]
  },
  {
   "cell_type": "code",
   "execution_count": 78,
   "id": "3c3a344b",
   "metadata": {},
   "outputs": [],
   "source": [
    "### Snowfall\n",
    "\n",
    "import cv2\n",
    "import numpy as np\n",
    "\n",
    "# Define the video dimensions\n",
    "width, height = 640, 480\n",
    "\n",
    "# Define the number of snowflakes\n",
    "num_snowflakes = 100\n",
    "\n",
    "# Create an empty black canvas\n",
    "canvas = np.zeros((height, width, 3), np.uint8)\n",
    "\n",
    "# Create random positions and velocities for the snowflakes\n",
    "positions = np.random.uniform(low=0, high=width, size=(num_snowflakes, 2))\n",
    "velocities = np.random.uniform(low=1, high=5, size=(num_snowflakes, 2))\n",
    "\n",
    "# Define the video codec and create a VideoWriter object\n",
    "fourcc = cv2.VideoWriter_fourcc(*'mp4v')\n",
    "out = cv2.VideoWriter('snowfall.mp4', fourcc, 30.0, (width, height))\n",
    "\n",
    "# Loop to simulate snowfall\n",
    "while True:\n",
    "    # Generate a new frame\n",
    "    canvas.fill(0)\n",
    "\n",
    "    # Update the snowflake positions\n",
    "    positions += velocities\n",
    "\n",
    "    # Wrap the snowflakes around the edges of the canvas\n",
    "    positions %= (width, height)\n",
    "\n",
    "    # Draw the snowflakes on the canvas\n",
    "    for (x, y) in positions:\n",
    "        cv2.circle(canvas, (int(x), int(y)), 3, (255, 255, 255), -1)\n",
    "\n",
    "    # Write the frame to the video file\n",
    "    out.write(canvas)\n",
    "\n",
    "    # Display the frame\n",
    "    cv2.imshow('Snowfall', canvas)\n",
    "\n",
    "    # Check if the 'q' key is pressed to exit\n",
    "    if cv2.waitKey(1) & 0xFF == ord('q'):\n",
    "        break\n",
    "\n",
    "# Release the VideoWriter and close the windows\n",
    "out.release()\n",
    "cv2.destroyAllWindows()\n"
   ]
  },
  {
   "cell_type": "code",
   "execution_count": null,
   "id": "e37bb690",
   "metadata": {},
   "outputs": [],
   "source": []
  },
  {
   "cell_type": "code",
   "execution_count": null,
   "id": "cf3084fc",
   "metadata": {},
   "outputs": [],
   "source": []
  }
 ],
 "metadata": {
  "kernelspec": {
   "display_name": "Python 3 (ipykernel)",
   "language": "python",
   "name": "python3"
  },
  "language_info": {
   "codemirror_mode": {
    "name": "ipython",
    "version": 3
   },
   "file_extension": ".py",
   "mimetype": "text/x-python",
   "name": "python",
   "nbconvert_exporter": "python",
   "pygments_lexer": "ipython3",
   "version": "3.9.16"
  }
 },
 "nbformat": 4,
 "nbformat_minor": 5
}
